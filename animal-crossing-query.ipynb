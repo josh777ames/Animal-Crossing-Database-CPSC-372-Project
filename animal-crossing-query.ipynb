{
 "cells": [
  {
   "metadata": {},
   "cell_type": "markdown",
   "source": [
    "# Animal Crossing Database Queries\n",
    "\n",
    "This notebook demonstrates SQLite queries on the Animal Crossing SQLite Database. This is merely a showcase of some of the capabilities of the database and is not the web application, that is found in app.py. It will create and seed the database and demonstrate the following types of queries:\n",
    "\n",
    "- Two queries involving four or more relations\n",
    "- One query involving joins\n",
    "- One query using an aggregate function\n",
    "- Three queries using subqueries in a non-trivial way\n",
    "- Two queries using grouping, include the use of HAVING\n",
    "- One query using set operations"
   ],
   "id": "c41e30ea943624b1"
  },
  {
   "metadata": {},
   "cell_type": "markdown",
   "source": [
    "## Setup\n",
    "\n",
    "First, we'll import the necessary libraries and set up the SQLite database connection:\n"
   ],
   "id": "ba8d03c08daf3fa6"
  },
  {
   "metadata": {
    "ExecuteTime": {
     "end_time": "2025-04-28T14:08:51.206893Z",
     "start_time": "2025-04-28T14:08:51.202382Z"
    }
   },
   "cell_type": "code",
   "source": [
    "import sqlite3\n",
    "import pandas as pd\n",
    "import os\n",
    "\n",
    "# Create an in-memory SQLite database\n",
    "conn = sqlite3.connect('./acnh.db')\n",
    "cursor = conn.cursor()\n",
    "\n",
    "# Helper function to execute SQL queries and display results as DataFrames\n",
    "def execute_query(query, params=None):\n",
    "    if params:\n",
    "        result = pd.read_sql_query(query, conn, params=params)\n",
    "    else:\n",
    "        result = pd.read_sql_query(query, conn)\n",
    "    return result"
   ],
   "id": "4d09f44fe09bb149",
   "outputs": [],
   "execution_count": 617
  },
  {
   "metadata": {},
   "cell_type": "markdown",
   "source": "## Creating Database Tables from DDL File",
   "id": "3fa120b8384b330"
  },
  {
   "metadata": {
    "ExecuteTime": {
     "end_time": "2025-04-28T14:08:51.300709Z",
     "start_time": "2025-04-28T14:08:51.273114Z"
    }
   },
   "cell_type": "code",
   "source": [
    "# Read the DDL file\n",
    "with open('animal-crossing-ddl.sql', 'r') as file:\n",
    "    ddl_sql = file.read()\n",
    "\n",
    "# Execute the DDL statements\n",
    "cursor.executescript(ddl_sql)\n",
    "conn.commit()\n",
    "\n",
    "print(\"Database tables created successfully.\")"
   ],
   "id": "32c731bb58e0656a",
   "outputs": [
    {
     "name": "stdout",
     "output_type": "stream",
     "text": [
      "Database tables created successfully.\n"
     ]
    }
   ],
   "execution_count": 618
  },
  {
   "metadata": {},
   "cell_type": "markdown",
   "source": "## Loading Data from Seed File",
   "id": "708b3bb567f4c593"
  },
  {
   "metadata": {
    "ExecuteTime": {
     "end_time": "2025-04-28T14:08:51.316493Z",
     "start_time": "2025-04-28T14:08:51.308079Z"
    }
   },
   "cell_type": "code",
   "source": [
    "# Read the seed file\n",
    "with open('animal-crossing-seed.sql', 'r') as file:\n",
    "    seed_sql = file.read()\n",
    "\n",
    "# Execute the seed statements\n",
    "cursor.executescript(seed_sql)\n",
    "conn.commit()\n",
    "\n",
    "print(\"Data loaded successfully.\")"
   ],
   "id": "273fe9dfefaff74",
   "outputs": [
    {
     "name": "stdout",
     "output_type": "stream",
     "text": [
      "Data loaded successfully.\n"
     ]
    }
   ],
   "execution_count": 619
  },
  {
   "metadata": {},
   "cell_type": "markdown",
   "source": "## Verifying the Data",
   "id": "8478fed21c6a6bec"
  },
  {
   "metadata": {
    "ExecuteTime": {
     "end_time": "2025-04-28T14:08:51.328172Z",
     "start_time": "2025-04-28T14:08:51.323142Z"
    }
   },
   "cell_type": "code",
   "source": [
    "# view all items\n",
    "data = execute_query(\"SELECT * FROM ITEM\")\n",
    "print(\"Item Table:\")\n",
    "data"
   ],
   "id": "7be1c28c801cfa7f",
   "outputs": [
    {
     "name": "stdout",
     "output_type": "stream",
     "text": [
      "Item Table:\n"
     ]
    },
    {
     "data": {
      "text/plain": [
       "      ItemID                       Name  Category\n",
       "0     art001                  Mona Lisa   ARTWORK\n",
       "1     art002               Starry Night   ARTWORK\n",
       "2     art003                 The Scream   ARTWORK\n",
       "3     art004         The Birth of Venus   ARTWORK\n",
       "4     art005  Girl with a Pearl Earring   ARTWORK\n",
       "..       ...                        ...       ...\n",
       "68  craft001                       Wood  CRAFTING\n",
       "69  craft002                Iron Nugget  CRAFTING\n",
       "70  craft003                       Clay  CRAFTING\n",
       "71  craft004                      Stone  CRAFTING\n",
       "72  craft005                Gold Nugget  CRAFTING\n",
       "\n",
       "[73 rows x 3 columns]"
      ],
      "text/html": [
       "<div>\n",
       "<style scoped>\n",
       "    .dataframe tbody tr th:only-of-type {\n",
       "        vertical-align: middle;\n",
       "    }\n",
       "\n",
       "    .dataframe tbody tr th {\n",
       "        vertical-align: top;\n",
       "    }\n",
       "\n",
       "    .dataframe thead th {\n",
       "        text-align: right;\n",
       "    }\n",
       "</style>\n",
       "<table border=\"1\" class=\"dataframe\">\n",
       "  <thead>\n",
       "    <tr style=\"text-align: right;\">\n",
       "      <th></th>\n",
       "      <th>ItemID</th>\n",
       "      <th>Name</th>\n",
       "      <th>Category</th>\n",
       "    </tr>\n",
       "  </thead>\n",
       "  <tbody>\n",
       "    <tr>\n",
       "      <th>0</th>\n",
       "      <td>art001</td>\n",
       "      <td>Mona Lisa</td>\n",
       "      <td>ARTWORK</td>\n",
       "    </tr>\n",
       "    <tr>\n",
       "      <th>1</th>\n",
       "      <td>art002</td>\n",
       "      <td>Starry Night</td>\n",
       "      <td>ARTWORK</td>\n",
       "    </tr>\n",
       "    <tr>\n",
       "      <th>2</th>\n",
       "      <td>art003</td>\n",
       "      <td>The Scream</td>\n",
       "      <td>ARTWORK</td>\n",
       "    </tr>\n",
       "    <tr>\n",
       "      <th>3</th>\n",
       "      <td>art004</td>\n",
       "      <td>The Birth of Venus</td>\n",
       "      <td>ARTWORK</td>\n",
       "    </tr>\n",
       "    <tr>\n",
       "      <th>4</th>\n",
       "      <td>art005</td>\n",
       "      <td>Girl with a Pearl Earring</td>\n",
       "      <td>ARTWORK</td>\n",
       "    </tr>\n",
       "    <tr>\n",
       "      <th>...</th>\n",
       "      <td>...</td>\n",
       "      <td>...</td>\n",
       "      <td>...</td>\n",
       "    </tr>\n",
       "    <tr>\n",
       "      <th>68</th>\n",
       "      <td>craft001</td>\n",
       "      <td>Wood</td>\n",
       "      <td>CRAFTING</td>\n",
       "    </tr>\n",
       "    <tr>\n",
       "      <th>69</th>\n",
       "      <td>craft002</td>\n",
       "      <td>Iron Nugget</td>\n",
       "      <td>CRAFTING</td>\n",
       "    </tr>\n",
       "    <tr>\n",
       "      <th>70</th>\n",
       "      <td>craft003</td>\n",
       "      <td>Clay</td>\n",
       "      <td>CRAFTING</td>\n",
       "    </tr>\n",
       "    <tr>\n",
       "      <th>71</th>\n",
       "      <td>craft004</td>\n",
       "      <td>Stone</td>\n",
       "      <td>CRAFTING</td>\n",
       "    </tr>\n",
       "    <tr>\n",
       "      <th>72</th>\n",
       "      <td>craft005</td>\n",
       "      <td>Gold Nugget</td>\n",
       "      <td>CRAFTING</td>\n",
       "    </tr>\n",
       "  </tbody>\n",
       "</table>\n",
       "<p>73 rows × 3 columns</p>\n",
       "</div>"
      ]
     },
     "execution_count": 620,
     "metadata": {},
     "output_type": "execute_result"
    }
   ],
   "execution_count": 620
  },
  {
   "metadata": {
    "ExecuteTime": {
     "end_time": "2025-04-28T14:08:51.367853Z",
     "start_time": "2025-04-28T14:08:51.362728Z"
    }
   },
   "cell_type": "code",
   "source": [
    "# view all villagers\n",
    "data = execute_query(\"SELECT * FROM VILLAGER\")\n",
    "print(\"Villager_static Table:\")\n",
    "data"
   ],
   "id": "5d43e28a3cfdabd0",
   "outputs": [
    {
     "name": "stdout",
     "output_type": "stream",
     "text": [
      "Villager_static Table:\n"
     ]
    },
    {
     "data": {
      "text/plain": [
       "   VillagerID      Name Personality   Species\n",
       "0     vill001   Raymond        Smug       Cat\n",
       "1     vill002     Audie       Peppy      Wolf\n",
       "2     vill003     Sherb        Lazy      Goat\n",
       "3     vill004      Judy      Snooty       Cub\n",
       "4     vill005   Marshal        Smug  Squirrel\n",
       "5     vill006     Ankha      Snooty       Cat\n",
       "6     vill007  Stitches        Lazy       Cub\n",
       "7     vill008      Beau        Lazy      Deer\n",
       "8     vill009    Pietro        Smug     Sheep\n",
       "9     vill010     Diana      Snooty      Deer\n",
       "10    vill011     Maple      Normal       Cub\n",
       "11    vill012     Fauna      Normal      Deer\n",
       "12    vill013  Meringue      Normal     Rhino\n",
       "13    vill014     Poppy      Normal  Squirrel\n",
       "14    vill015       Bob        Lazy       Cat\n",
       "15    vill016     Lucky        Lazy       Dog\n",
       "16    vill017     Rosie       Peppy       Cat\n",
       "17    vill018      Fang      Cranky      Wolf\n",
       "18    vill019    Julian        Smug     Horse\n",
       "19    vill020   Whitney      Snooty      Wolf"
      ],
      "text/html": [
       "<div>\n",
       "<style scoped>\n",
       "    .dataframe tbody tr th:only-of-type {\n",
       "        vertical-align: middle;\n",
       "    }\n",
       "\n",
       "    .dataframe tbody tr th {\n",
       "        vertical-align: top;\n",
       "    }\n",
       "\n",
       "    .dataframe thead th {\n",
       "        text-align: right;\n",
       "    }\n",
       "</style>\n",
       "<table border=\"1\" class=\"dataframe\">\n",
       "  <thead>\n",
       "    <tr style=\"text-align: right;\">\n",
       "      <th></th>\n",
       "      <th>VillagerID</th>\n",
       "      <th>Name</th>\n",
       "      <th>Personality</th>\n",
       "      <th>Species</th>\n",
       "    </tr>\n",
       "  </thead>\n",
       "  <tbody>\n",
       "    <tr>\n",
       "      <th>0</th>\n",
       "      <td>vill001</td>\n",
       "      <td>Raymond</td>\n",
       "      <td>Smug</td>\n",
       "      <td>Cat</td>\n",
       "    </tr>\n",
       "    <tr>\n",
       "      <th>1</th>\n",
       "      <td>vill002</td>\n",
       "      <td>Audie</td>\n",
       "      <td>Peppy</td>\n",
       "      <td>Wolf</td>\n",
       "    </tr>\n",
       "    <tr>\n",
       "      <th>2</th>\n",
       "      <td>vill003</td>\n",
       "      <td>Sherb</td>\n",
       "      <td>Lazy</td>\n",
       "      <td>Goat</td>\n",
       "    </tr>\n",
       "    <tr>\n",
       "      <th>3</th>\n",
       "      <td>vill004</td>\n",
       "      <td>Judy</td>\n",
       "      <td>Snooty</td>\n",
       "      <td>Cub</td>\n",
       "    </tr>\n",
       "    <tr>\n",
       "      <th>4</th>\n",
       "      <td>vill005</td>\n",
       "      <td>Marshal</td>\n",
       "      <td>Smug</td>\n",
       "      <td>Squirrel</td>\n",
       "    </tr>\n",
       "    <tr>\n",
       "      <th>5</th>\n",
       "      <td>vill006</td>\n",
       "      <td>Ankha</td>\n",
       "      <td>Snooty</td>\n",
       "      <td>Cat</td>\n",
       "    </tr>\n",
       "    <tr>\n",
       "      <th>6</th>\n",
       "      <td>vill007</td>\n",
       "      <td>Stitches</td>\n",
       "      <td>Lazy</td>\n",
       "      <td>Cub</td>\n",
       "    </tr>\n",
       "    <tr>\n",
       "      <th>7</th>\n",
       "      <td>vill008</td>\n",
       "      <td>Beau</td>\n",
       "      <td>Lazy</td>\n",
       "      <td>Deer</td>\n",
       "    </tr>\n",
       "    <tr>\n",
       "      <th>8</th>\n",
       "      <td>vill009</td>\n",
       "      <td>Pietro</td>\n",
       "      <td>Smug</td>\n",
       "      <td>Sheep</td>\n",
       "    </tr>\n",
       "    <tr>\n",
       "      <th>9</th>\n",
       "      <td>vill010</td>\n",
       "      <td>Diana</td>\n",
       "      <td>Snooty</td>\n",
       "      <td>Deer</td>\n",
       "    </tr>\n",
       "    <tr>\n",
       "      <th>10</th>\n",
       "      <td>vill011</td>\n",
       "      <td>Maple</td>\n",
       "      <td>Normal</td>\n",
       "      <td>Cub</td>\n",
       "    </tr>\n",
       "    <tr>\n",
       "      <th>11</th>\n",
       "      <td>vill012</td>\n",
       "      <td>Fauna</td>\n",
       "      <td>Normal</td>\n",
       "      <td>Deer</td>\n",
       "    </tr>\n",
       "    <tr>\n",
       "      <th>12</th>\n",
       "      <td>vill013</td>\n",
       "      <td>Meringue</td>\n",
       "      <td>Normal</td>\n",
       "      <td>Rhino</td>\n",
       "    </tr>\n",
       "    <tr>\n",
       "      <th>13</th>\n",
       "      <td>vill014</td>\n",
       "      <td>Poppy</td>\n",
       "      <td>Normal</td>\n",
       "      <td>Squirrel</td>\n",
       "    </tr>\n",
       "    <tr>\n",
       "      <th>14</th>\n",
       "      <td>vill015</td>\n",
       "      <td>Bob</td>\n",
       "      <td>Lazy</td>\n",
       "      <td>Cat</td>\n",
       "    </tr>\n",
       "    <tr>\n",
       "      <th>15</th>\n",
       "      <td>vill016</td>\n",
       "      <td>Lucky</td>\n",
       "      <td>Lazy</td>\n",
       "      <td>Dog</td>\n",
       "    </tr>\n",
       "    <tr>\n",
       "      <th>16</th>\n",
       "      <td>vill017</td>\n",
       "      <td>Rosie</td>\n",
       "      <td>Peppy</td>\n",
       "      <td>Cat</td>\n",
       "    </tr>\n",
       "    <tr>\n",
       "      <th>17</th>\n",
       "      <td>vill018</td>\n",
       "      <td>Fang</td>\n",
       "      <td>Cranky</td>\n",
       "      <td>Wolf</td>\n",
       "    </tr>\n",
       "    <tr>\n",
       "      <th>18</th>\n",
       "      <td>vill019</td>\n",
       "      <td>Julian</td>\n",
       "      <td>Smug</td>\n",
       "      <td>Horse</td>\n",
       "    </tr>\n",
       "    <tr>\n",
       "      <th>19</th>\n",
       "      <td>vill020</td>\n",
       "      <td>Whitney</td>\n",
       "      <td>Snooty</td>\n",
       "      <td>Wolf</td>\n",
       "    </tr>\n",
       "  </tbody>\n",
       "</table>\n",
       "</div>"
      ]
     },
     "execution_count": 621,
     "metadata": {},
     "output_type": "execute_result"
    }
   ],
   "execution_count": 621
  },
  {
   "metadata": {
    "ExecuteTime": {
     "end_time": "2025-04-28T14:08:51.438209Z",
     "start_time": "2025-04-28T14:08:51.434204Z"
    }
   },
   "cell_type": "code",
   "source": [
    "# view all users\n",
    "data = execute_query(\"SELECT * FROM USER\")\n",
    "print(\"Users:\")\n",
    "data"
   ],
   "id": "389f398ce4962d49",
   "outputs": [
    {
     "name": "stdout",
     "output_type": "stream",
     "text": [
      "Users:\n"
     ]
    },
    {
     "data": {
      "text/plain": [
       "   UserID     Username     Password\n",
       "0       1  ExampleUser  password123"
      ],
      "text/html": [
       "<div>\n",
       "<style scoped>\n",
       "    .dataframe tbody tr th:only-of-type {\n",
       "        vertical-align: middle;\n",
       "    }\n",
       "\n",
       "    .dataframe tbody tr th {\n",
       "        vertical-align: top;\n",
       "    }\n",
       "\n",
       "    .dataframe thead th {\n",
       "        text-align: right;\n",
       "    }\n",
       "</style>\n",
       "<table border=\"1\" class=\"dataframe\">\n",
       "  <thead>\n",
       "    <tr style=\"text-align: right;\">\n",
       "      <th></th>\n",
       "      <th>UserID</th>\n",
       "      <th>Username</th>\n",
       "      <th>Password</th>\n",
       "    </tr>\n",
       "  </thead>\n",
       "  <tbody>\n",
       "    <tr>\n",
       "      <th>0</th>\n",
       "      <td>1</td>\n",
       "      <td>ExampleUser</td>\n",
       "      <td>password123</td>\n",
       "    </tr>\n",
       "  </tbody>\n",
       "</table>\n",
       "</div>"
      ]
     },
     "execution_count": 622,
     "metadata": {},
     "output_type": "execute_result"
    }
   ],
   "execution_count": 622
  },
  {
   "metadata": {
    "ExecuteTime": {
     "end_time": "2025-04-28T14:08:51.512459Z",
     "start_time": "2025-04-28T14:08:51.507282Z"
    }
   },
   "cell_type": "code",
   "source": [
    "data = execute_query(\"SELECT * FROM USER_ITEM\")\n",
    "print(\"User owned items:\")\n",
    "data"
   ],
   "id": "6ed4f95b4b48685c",
   "outputs": [
    {
     "name": "stdout",
     "output_type": "stream",
     "text": [
      "User owned items:\n"
     ]
    },
    {
     "data": {
      "text/plain": [
       "   UserID     ItemID  QuantityOwned\n",
       "0       1    fish001              2\n",
       "1       1     bug001              1\n",
       "2       1     art001              1\n",
       "3       1  fossil001              1\n",
       "4       1  flower001              3\n",
       "5       1  flower002              5\n",
       "6       1     sea001              1\n",
       "7       1     sea003              1\n",
       "8       1     sea005              2"
      ],
      "text/html": [
       "<div>\n",
       "<style scoped>\n",
       "    .dataframe tbody tr th:only-of-type {\n",
       "        vertical-align: middle;\n",
       "    }\n",
       "\n",
       "    .dataframe tbody tr th {\n",
       "        vertical-align: top;\n",
       "    }\n",
       "\n",
       "    .dataframe thead th {\n",
       "        text-align: right;\n",
       "    }\n",
       "</style>\n",
       "<table border=\"1\" class=\"dataframe\">\n",
       "  <thead>\n",
       "    <tr style=\"text-align: right;\">\n",
       "      <th></th>\n",
       "      <th>UserID</th>\n",
       "      <th>ItemID</th>\n",
       "      <th>QuantityOwned</th>\n",
       "    </tr>\n",
       "  </thead>\n",
       "  <tbody>\n",
       "    <tr>\n",
       "      <th>0</th>\n",
       "      <td>1</td>\n",
       "      <td>fish001</td>\n",
       "      <td>2</td>\n",
       "    </tr>\n",
       "    <tr>\n",
       "      <th>1</th>\n",
       "      <td>1</td>\n",
       "      <td>bug001</td>\n",
       "      <td>1</td>\n",
       "    </tr>\n",
       "    <tr>\n",
       "      <th>2</th>\n",
       "      <td>1</td>\n",
       "      <td>art001</td>\n",
       "      <td>1</td>\n",
       "    </tr>\n",
       "    <tr>\n",
       "      <th>3</th>\n",
       "      <td>1</td>\n",
       "      <td>fossil001</td>\n",
       "      <td>1</td>\n",
       "    </tr>\n",
       "    <tr>\n",
       "      <th>4</th>\n",
       "      <td>1</td>\n",
       "      <td>flower001</td>\n",
       "      <td>3</td>\n",
       "    </tr>\n",
       "    <tr>\n",
       "      <th>5</th>\n",
       "      <td>1</td>\n",
       "      <td>flower002</td>\n",
       "      <td>5</td>\n",
       "    </tr>\n",
       "    <tr>\n",
       "      <th>6</th>\n",
       "      <td>1</td>\n",
       "      <td>sea001</td>\n",
       "      <td>1</td>\n",
       "    </tr>\n",
       "    <tr>\n",
       "      <th>7</th>\n",
       "      <td>1</td>\n",
       "      <td>sea003</td>\n",
       "      <td>1</td>\n",
       "    </tr>\n",
       "    <tr>\n",
       "      <th>8</th>\n",
       "      <td>1</td>\n",
       "      <td>sea005</td>\n",
       "      <td>2</td>\n",
       "    </tr>\n",
       "  </tbody>\n",
       "</table>\n",
       "</div>"
      ]
     },
     "execution_count": 623,
     "metadata": {},
     "output_type": "execute_result"
    }
   ],
   "execution_count": 623
  },
  {
   "metadata": {
    "ExecuteTime": {
     "end_time": "2025-04-28T14:08:51.593549Z",
     "start_time": "2025-04-28T14:08:51.590079Z"
    }
   },
   "cell_type": "code",
   "source": [
    "data = execute_query(\"SELECT * FROM ISLAND_VILLAGER\")\n",
    "print(\"User villagers:\")\n",
    "data"
   ],
   "id": "163f02429f03fcb0",
   "outputs": [
    {
     "name": "stdout",
     "output_type": "stream",
     "text": [
      "User villagers:\n"
     ]
    },
    {
     "data": {
      "text/plain": [
       "  VillagerID  UserID  TalkedToday\n",
       "0    vill011       1            0\n",
       "1    vill012       1            0\n",
       "2    vill013       1            0\n",
       "3    vill014       1            1\n",
       "4    vill015       1            1"
      ],
      "text/html": [
       "<div>\n",
       "<style scoped>\n",
       "    .dataframe tbody tr th:only-of-type {\n",
       "        vertical-align: middle;\n",
       "    }\n",
       "\n",
       "    .dataframe tbody tr th {\n",
       "        vertical-align: top;\n",
       "    }\n",
       "\n",
       "    .dataframe thead th {\n",
       "        text-align: right;\n",
       "    }\n",
       "</style>\n",
       "<table border=\"1\" class=\"dataframe\">\n",
       "  <thead>\n",
       "    <tr style=\"text-align: right;\">\n",
       "      <th></th>\n",
       "      <th>VillagerID</th>\n",
       "      <th>UserID</th>\n",
       "      <th>TalkedToday</th>\n",
       "    </tr>\n",
       "  </thead>\n",
       "  <tbody>\n",
       "    <tr>\n",
       "      <th>0</th>\n",
       "      <td>vill011</td>\n",
       "      <td>1</td>\n",
       "      <td>0</td>\n",
       "    </tr>\n",
       "    <tr>\n",
       "      <th>1</th>\n",
       "      <td>vill012</td>\n",
       "      <td>1</td>\n",
       "      <td>0</td>\n",
       "    </tr>\n",
       "    <tr>\n",
       "      <th>2</th>\n",
       "      <td>vill013</td>\n",
       "      <td>1</td>\n",
       "      <td>0</td>\n",
       "    </tr>\n",
       "    <tr>\n",
       "      <th>3</th>\n",
       "      <td>vill014</td>\n",
       "      <td>1</td>\n",
       "      <td>1</td>\n",
       "    </tr>\n",
       "    <tr>\n",
       "      <th>4</th>\n",
       "      <td>vill015</td>\n",
       "      <td>1</td>\n",
       "      <td>1</td>\n",
       "    </tr>\n",
       "  </tbody>\n",
       "</table>\n",
       "</div>"
      ]
     },
     "execution_count": 624,
     "metadata": {},
     "output_type": "execute_result"
    }
   ],
   "execution_count": 624
  },
  {
   "metadata": {},
   "cell_type": "markdown",
   "source": "## SQLite Queries",
   "id": "d0de27068d4cc2d4"
  },
  {
   "metadata": {},
   "cell_type": "markdown",
   "source": "Queries involving four or more relations:",
   "id": "566f1f6724277e65"
  },
  {
   "metadata": {
    "ExecuteTime": {
     "end_time": "2025-04-28T14:08:51.691095Z",
     "start_time": "2025-04-28T14:08:51.686728Z"
    }
   },
   "cell_type": "code",
   "source": [
    "# this shows the Sea Critters currently owned by the User with id = 1.\n",
    "query = \"\"\"\n",
    "SELECT i.Name AS SeaCritterName, sc.ShadowSize, sc.Behavior, ui.QuantityOwned\n",
    "FROM USER_ITEM ui\n",
    "JOIN ITEM i ON ui.ItemID = i.ItemID\n",
    "JOIN SEA_CRITTER sc ON ui.ItemID = sc.ItemID\n",
    "JOIN USER u ON ui.UserID = u.UserID\n",
    "WHERE u.UserID = '1' AND i.Category = 'SEA_CRITTER' AND ui.QuantityOwned = 1;\n",
    "\"\"\"\n",
    "\n",
    "result = execute_query(query)\n",
    "print(\"Results:\")\n",
    "result\n"
   ],
   "id": "d861112e8d674297",
   "outputs": [
    {
     "name": "stdout",
     "output_type": "stream",
     "text": [
      "Results:\n"
     ]
    },
    {
     "data": {
      "text/plain": [
       "  SeaCritterName ShadowSize    Behavior  QuantityOwned\n",
       "0     Sea Urchin     Medium        Fast              1\n",
       "1        Sea Pig      Small  Stationary              1"
      ],
      "text/html": [
       "<div>\n",
       "<style scoped>\n",
       "    .dataframe tbody tr th:only-of-type {\n",
       "        vertical-align: middle;\n",
       "    }\n",
       "\n",
       "    .dataframe tbody tr th {\n",
       "        vertical-align: top;\n",
       "    }\n",
       "\n",
       "    .dataframe thead th {\n",
       "        text-align: right;\n",
       "    }\n",
       "</style>\n",
       "<table border=\"1\" class=\"dataframe\">\n",
       "  <thead>\n",
       "    <tr style=\"text-align: right;\">\n",
       "      <th></th>\n",
       "      <th>SeaCritterName</th>\n",
       "      <th>ShadowSize</th>\n",
       "      <th>Behavior</th>\n",
       "      <th>QuantityOwned</th>\n",
       "    </tr>\n",
       "  </thead>\n",
       "  <tbody>\n",
       "    <tr>\n",
       "      <th>0</th>\n",
       "      <td>Sea Urchin</td>\n",
       "      <td>Medium</td>\n",
       "      <td>Fast</td>\n",
       "      <td>1</td>\n",
       "    </tr>\n",
       "    <tr>\n",
       "      <th>1</th>\n",
       "      <td>Sea Pig</td>\n",
       "      <td>Small</td>\n",
       "      <td>Stationary</td>\n",
       "      <td>1</td>\n",
       "    </tr>\n",
       "  </tbody>\n",
       "</table>\n",
       "</div>"
      ]
     },
     "execution_count": 625,
     "metadata": {},
     "output_type": "execute_result"
    }
   ],
   "execution_count": 625
  },
  {
   "metadata": {
    "ExecuteTime": {
     "end_time": "2025-04-28T14:08:51.781483Z",
     "start_time": "2025-04-28T14:08:51.777684Z"
    }
   },
   "cell_type": "code",
   "source": [
    "# this shows the Fish currently owned by the user with id = 1\n",
    "query = \"\"\"\n",
    "SELECT i.Name AS FishName, f.Location, ui.QuantityOwned\n",
    "FROM USER_ITEM ui\n",
    "JOIN ITEM i ON ui.ItemID = i.ItemID\n",
    "JOIN FISH f ON ui.ItemID = f.ItemID\n",
    "JOIN USER u ON ui.UserID = u.UserID\n",
    "WHERE u.UserID = '1' AND i.Category = 'FISH' AND ui.QuantityOwned >= 1;\n",
    "\"\"\"\n",
    "\n",
    "result = execute_query(query)\n",
    "print(\"Results:\")\n",
    "result"
   ],
   "id": "3bf569555b6684d0",
   "outputs": [
    {
     "name": "stdout",
     "output_type": "stream",
     "text": [
      "Results:\n"
     ]
    },
    {
     "data": {
      "text/plain": [
       "   FishName Location  QuantityOwned\n",
       "0  Bluegill    River              2"
      ],
      "text/html": [
       "<div>\n",
       "<style scoped>\n",
       "    .dataframe tbody tr th:only-of-type {\n",
       "        vertical-align: middle;\n",
       "    }\n",
       "\n",
       "    .dataframe tbody tr th {\n",
       "        vertical-align: top;\n",
       "    }\n",
       "\n",
       "    .dataframe thead th {\n",
       "        text-align: right;\n",
       "    }\n",
       "</style>\n",
       "<table border=\"1\" class=\"dataframe\">\n",
       "  <thead>\n",
       "    <tr style=\"text-align: right;\">\n",
       "      <th></th>\n",
       "      <th>FishName</th>\n",
       "      <th>Location</th>\n",
       "      <th>QuantityOwned</th>\n",
       "    </tr>\n",
       "  </thead>\n",
       "  <tbody>\n",
       "    <tr>\n",
       "      <th>0</th>\n",
       "      <td>Bluegill</td>\n",
       "      <td>River</td>\n",
       "      <td>2</td>\n",
       "    </tr>\n",
       "  </tbody>\n",
       "</table>\n",
       "</div>"
      ]
     },
     "execution_count": 626,
     "metadata": {},
     "output_type": "execute_result"
    }
   ],
   "execution_count": 626
  },
  {
   "metadata": {},
   "cell_type": "markdown",
   "source": "Query involving joins",
   "id": "c21fa9228e6fd7a4"
  },
  {
   "metadata": {
    "ExecuteTime": {
     "end_time": "2025-04-28T14:08:51.868074Z",
     "start_time": "2025-04-28T14:08:51.863930Z"
    }
   },
   "cell_type": "code",
   "source": [
    "# this shows the Villagers currently on the user's island with id = 1\n",
    "query = \"\"\"\n",
    "SELECT vs.Name AS VillagerName, vs.Personality, vs.Species, v.TalkedToday\n",
    "FROM VILLAGER vs\n",
    "JOIN ISLAND_VILLAGER v ON v.VillagerID = vs.VillagerID\n",
    "WHERE v.UserID = '1'\n",
    "\"\"\"\n",
    "\n",
    "result = execute_query(query)\n",
    "print(\"Results:\")\n",
    "result"
   ],
   "id": "5aea1850abebc352",
   "outputs": [
    {
     "name": "stdout",
     "output_type": "stream",
     "text": [
      "Results:\n"
     ]
    },
    {
     "data": {
      "text/plain": [
       "  VillagerName Personality   Species  TalkedToday\n",
       "0        Maple      Normal       Cub            0\n",
       "1        Fauna      Normal      Deer            0\n",
       "2     Meringue      Normal     Rhino            0\n",
       "3        Poppy      Normal  Squirrel            1\n",
       "4          Bob        Lazy       Cat            1"
      ],
      "text/html": [
       "<div>\n",
       "<style scoped>\n",
       "    .dataframe tbody tr th:only-of-type {\n",
       "        vertical-align: middle;\n",
       "    }\n",
       "\n",
       "    .dataframe tbody tr th {\n",
       "        vertical-align: top;\n",
       "    }\n",
       "\n",
       "    .dataframe thead th {\n",
       "        text-align: right;\n",
       "    }\n",
       "</style>\n",
       "<table border=\"1\" class=\"dataframe\">\n",
       "  <thead>\n",
       "    <tr style=\"text-align: right;\">\n",
       "      <th></th>\n",
       "      <th>VillagerName</th>\n",
       "      <th>Personality</th>\n",
       "      <th>Species</th>\n",
       "      <th>TalkedToday</th>\n",
       "    </tr>\n",
       "  </thead>\n",
       "  <tbody>\n",
       "    <tr>\n",
       "      <th>0</th>\n",
       "      <td>Maple</td>\n",
       "      <td>Normal</td>\n",
       "      <td>Cub</td>\n",
       "      <td>0</td>\n",
       "    </tr>\n",
       "    <tr>\n",
       "      <th>1</th>\n",
       "      <td>Fauna</td>\n",
       "      <td>Normal</td>\n",
       "      <td>Deer</td>\n",
       "      <td>0</td>\n",
       "    </tr>\n",
       "    <tr>\n",
       "      <th>2</th>\n",
       "      <td>Meringue</td>\n",
       "      <td>Normal</td>\n",
       "      <td>Rhino</td>\n",
       "      <td>0</td>\n",
       "    </tr>\n",
       "    <tr>\n",
       "      <th>3</th>\n",
       "      <td>Poppy</td>\n",
       "      <td>Normal</td>\n",
       "      <td>Squirrel</td>\n",
       "      <td>1</td>\n",
       "    </tr>\n",
       "    <tr>\n",
       "      <th>4</th>\n",
       "      <td>Bob</td>\n",
       "      <td>Lazy</td>\n",
       "      <td>Cat</td>\n",
       "      <td>1</td>\n",
       "    </tr>\n",
       "  </tbody>\n",
       "</table>\n",
       "</div>"
      ]
     },
     "execution_count": 627,
     "metadata": {},
     "output_type": "execute_result"
    }
   ],
   "execution_count": 627
  },
  {
   "metadata": {},
   "cell_type": "markdown",
   "source": "Query using an aggregate function",
   "id": "a48ea7f07c386102"
  },
  {
   "metadata": {
    "ExecuteTime": {
     "end_time": "2025-04-28T14:08:51.943868Z",
     "start_time": "2025-04-28T14:08:51.940067Z"
    }
   },
   "cell_type": "code",
   "source": [
    "# this shows the number of villagers that have been talked to by the user with id = 1\n",
    "query = \"\"\"\n",
    "SELECT COUNT(*) as NumberVillagersTalkedTo\n",
    "FROM ISLAND_VILLAGER\n",
    "WHERE UserID = '1' AND TalkedToday = 1\n",
    "\"\"\"\n",
    "\n",
    "result = execute_query(query)\n",
    "print(\"Results:\")\n",
    "result"
   ],
   "id": "b88c405195089df2",
   "outputs": [
    {
     "name": "stdout",
     "output_type": "stream",
     "text": [
      "Results:\n"
     ]
    },
    {
     "data": {
      "text/plain": [
       "   NumberVillagersTalkedTo\n",
       "0                        2"
      ],
      "text/html": [
       "<div>\n",
       "<style scoped>\n",
       "    .dataframe tbody tr th:only-of-type {\n",
       "        vertical-align: middle;\n",
       "    }\n",
       "\n",
       "    .dataframe tbody tr th {\n",
       "        vertical-align: top;\n",
       "    }\n",
       "\n",
       "    .dataframe thead th {\n",
       "        text-align: right;\n",
       "    }\n",
       "</style>\n",
       "<table border=\"1\" class=\"dataframe\">\n",
       "  <thead>\n",
       "    <tr style=\"text-align: right;\">\n",
       "      <th></th>\n",
       "      <th>NumberVillagersTalkedTo</th>\n",
       "    </tr>\n",
       "  </thead>\n",
       "  <tbody>\n",
       "    <tr>\n",
       "      <th>0</th>\n",
       "      <td>2</td>\n",
       "    </tr>\n",
       "  </tbody>\n",
       "</table>\n",
       "</div>"
      ]
     },
     "execution_count": 628,
     "metadata": {},
     "output_type": "execute_result"
    }
   ],
   "execution_count": 628
  },
  {
   "metadata": {},
   "cell_type": "markdown",
   "source": "Queries using subqueries in a non-trivial way",
   "id": "67780728ee6e8cb2"
  },
  {
   "metadata": {
    "ExecuteTime": {
     "end_time": "2025-04-28T14:08:52.063184Z",
     "start_time": "2025-04-28T14:08:52.058691Z"
    }
   },
   "cell_type": "code",
   "source": [
    "# this shows the villagers with the snooty personality on the user with id = 1's island\n",
    "query = \"\"\"\n",
    "SELECT v.Name\n",
    "FROM VILLAGER v\n",
    "JOIN ISLAND_VILLAGER iv ON v.VillagerID = iv.VillagerID\n",
    "WHERE iv.UserID = '1'\n",
    "AND v.Species IN (\n",
    "    SELECT DISTINCT Species\n",
    "    FROM VILLAGER\n",
    "    WHERE Personality = 'Snooty'\n",
    ");\n",
    "\"\"\"\n",
    "\n",
    "result = execute_query(query)\n",
    "print(\"Results:\")\n",
    "result"
   ],
   "id": "274ea67c222374a2",
   "outputs": [
    {
     "name": "stdout",
     "output_type": "stream",
     "text": [
      "Results:\n"
     ]
    },
    {
     "data": {
      "text/plain": [
       "    Name\n",
       "0  Maple\n",
       "1  Fauna\n",
       "2    Bob"
      ],
      "text/html": [
       "<div>\n",
       "<style scoped>\n",
       "    .dataframe tbody tr th:only-of-type {\n",
       "        vertical-align: middle;\n",
       "    }\n",
       "\n",
       "    .dataframe tbody tr th {\n",
       "        vertical-align: top;\n",
       "    }\n",
       "\n",
       "    .dataframe thead th {\n",
       "        text-align: right;\n",
       "    }\n",
       "</style>\n",
       "<table border=\"1\" class=\"dataframe\">\n",
       "  <thead>\n",
       "    <tr style=\"text-align: right;\">\n",
       "      <th></th>\n",
       "      <th>Name</th>\n",
       "    </tr>\n",
       "  </thead>\n",
       "  <tbody>\n",
       "    <tr>\n",
       "      <th>0</th>\n",
       "      <td>Maple</td>\n",
       "    </tr>\n",
       "    <tr>\n",
       "      <th>1</th>\n",
       "      <td>Fauna</td>\n",
       "    </tr>\n",
       "    <tr>\n",
       "      <th>2</th>\n",
       "      <td>Bob</td>\n",
       "    </tr>\n",
       "  </tbody>\n",
       "</table>\n",
       "</div>"
      ]
     },
     "execution_count": 629,
     "metadata": {},
     "output_type": "execute_result"
    }
   ],
   "execution_count": 629
  },
  {
   "metadata": {
    "ExecuteTime": {
     "end_time": "2025-04-28T14:08:52.124887Z",
     "start_time": "2025-04-28T14:08:52.120715Z"
    }
   },
   "cell_type": "code",
   "source": [
    "# this shows the flowers owned by user with id = 1 where more than 1 flower color is owned\n",
    "query = \"\"\"\n",
    "SELECT i.Name AS FlowerName\n",
    "FROM USER_ITEM ui\n",
    "JOIN ITEM i ON ui.ItemID = i.ItemID\n",
    "WHERE ui.UserID = '1' AND i.Category = 'FLOWER'\n",
    "AND i.ItemID IN (\n",
    "    SELECT fc.ItemID\n",
    "    FROM FLOWER_COLOR fc\n",
    "    GROUP BY fc.ItemID\n",
    "    HAVING COUNT(fc.Color) > 2\n",
    ");\n",
    "\"\"\"\n",
    "\n",
    "result = execute_query(query)\n",
    "print(\"Results:\")\n",
    "result"
   ],
   "id": "833d0dac77a008a5",
   "outputs": [
    {
     "name": "stdout",
     "output_type": "stream",
     "text": [
      "Results:\n"
     ]
    },
    {
     "data": {
      "text/plain": [
       "  FlowerName\n",
       "0       Rose\n",
       "1      Tulip"
      ],
      "text/html": [
       "<div>\n",
       "<style scoped>\n",
       "    .dataframe tbody tr th:only-of-type {\n",
       "        vertical-align: middle;\n",
       "    }\n",
       "\n",
       "    .dataframe tbody tr th {\n",
       "        vertical-align: top;\n",
       "    }\n",
       "\n",
       "    .dataframe thead th {\n",
       "        text-align: right;\n",
       "    }\n",
       "</style>\n",
       "<table border=\"1\" class=\"dataframe\">\n",
       "  <thead>\n",
       "    <tr style=\"text-align: right;\">\n",
       "      <th></th>\n",
       "      <th>FlowerName</th>\n",
       "    </tr>\n",
       "  </thead>\n",
       "  <tbody>\n",
       "    <tr>\n",
       "      <th>0</th>\n",
       "      <td>Rose</td>\n",
       "    </tr>\n",
       "    <tr>\n",
       "      <th>1</th>\n",
       "      <td>Tulip</td>\n",
       "    </tr>\n",
       "  </tbody>\n",
       "</table>\n",
       "</div>"
      ]
     },
     "execution_count": 630,
     "metadata": {},
     "output_type": "execute_result"
    }
   ],
   "execution_count": 630
  },
  {
   "metadata": {
    "ExecuteTime": {
     "end_time": "2025-04-28T14:08:52.191399Z",
     "start_time": "2025-04-28T14:08:52.187627Z"
    }
   },
   "cell_type": "code",
   "source": [
    "# this shows the fossils in the user with id = 1's wishlist that have a wanted quantity over 2\n",
    "query = \"\"\"\n",
    "SELECT i.Name AS FossilName\n",
    "FROM ITEM i\n",
    "WHERE i.Category = 'FOSSIL'\n",
    "AND i.ItemID IN (\n",
    "    SELECT w.ItemID\n",
    "    FROM WISHLIST w\n",
    "    WHERE w.UserID = '1'\n",
    "    AND WishlistQuantity > 2\n",
    ");\n",
    "\"\"\"\n",
    "\n",
    "result = execute_query(query)\n",
    "print(\"Results:\")\n",
    "result"
   ],
   "id": "a7d0e321da00790d",
   "outputs": [
    {
     "name": "stdout",
     "output_type": "stream",
     "text": [
      "Results:\n"
     ]
    },
    {
     "data": {
      "text/plain": [
       "           FossilName\n",
       "0    Sabertooth Skull\n",
       "1  Brachiosaurus Tail"
      ],
      "text/html": [
       "<div>\n",
       "<style scoped>\n",
       "    .dataframe tbody tr th:only-of-type {\n",
       "        vertical-align: middle;\n",
       "    }\n",
       "\n",
       "    .dataframe tbody tr th {\n",
       "        vertical-align: top;\n",
       "    }\n",
       "\n",
       "    .dataframe thead th {\n",
       "        text-align: right;\n",
       "    }\n",
       "</style>\n",
       "<table border=\"1\" class=\"dataframe\">\n",
       "  <thead>\n",
       "    <tr style=\"text-align: right;\">\n",
       "      <th></th>\n",
       "      <th>FossilName</th>\n",
       "    </tr>\n",
       "  </thead>\n",
       "  <tbody>\n",
       "    <tr>\n",
       "      <th>0</th>\n",
       "      <td>Sabertooth Skull</td>\n",
       "    </tr>\n",
       "    <tr>\n",
       "      <th>1</th>\n",
       "      <td>Brachiosaurus Tail</td>\n",
       "    </tr>\n",
       "  </tbody>\n",
       "</table>\n",
       "</div>"
      ]
     },
     "execution_count": 631,
     "metadata": {},
     "output_type": "execute_result"
    }
   ],
   "execution_count": 631
  },
  {
   "metadata": {},
   "cell_type": "markdown",
   "source": "Queries using grouping, include the use of HAVING",
   "id": "85c83c8ae16b4be0"
  },
  {
   "metadata": {
    "ExecuteTime": {
     "end_time": "2025-04-28T14:08:52.267315Z",
     "start_time": "2025-04-28T14:08:52.263691Z"
    }
   },
   "cell_type": "code",
   "source": [
    "# this shows the items owned by the user with id = 1 with a quantity owned greater than 1\n",
    "query = \"\"\"\n",
    "SELECT i.Name, QuantityOwned\n",
    "FROM USER_ITEM ui\n",
    "JOIN ITEM i ON i.ItemID = ui.ItemID\n",
    "WHERE ui.UserID = '1'\n",
    "GROUP BY QuantityOwned\n",
    "HAVING QuantityOwned > 1\n",
    "ORDER BY QuantityOwned DESC\n",
    "\"\"\"\n",
    "\n",
    "result = execute_query(query)\n",
    "print(\"Results:\")\n",
    "result"
   ],
   "id": "56a210f2dcd04e9d",
   "outputs": [
    {
     "name": "stdout",
     "output_type": "stream",
     "text": [
      "Results:\n"
     ]
    },
    {
     "data": {
      "text/plain": [
       "       Name  QuantityOwned\n",
       "0     Tulip              5\n",
       "1      Rose              3\n",
       "2  Bluegill              2"
      ],
      "text/html": [
       "<div>\n",
       "<style scoped>\n",
       "    .dataframe tbody tr th:only-of-type {\n",
       "        vertical-align: middle;\n",
       "    }\n",
       "\n",
       "    .dataframe tbody tr th {\n",
       "        vertical-align: top;\n",
       "    }\n",
       "\n",
       "    .dataframe thead th {\n",
       "        text-align: right;\n",
       "    }\n",
       "</style>\n",
       "<table border=\"1\" class=\"dataframe\">\n",
       "  <thead>\n",
       "    <tr style=\"text-align: right;\">\n",
       "      <th></th>\n",
       "      <th>Name</th>\n",
       "      <th>QuantityOwned</th>\n",
       "    </tr>\n",
       "  </thead>\n",
       "  <tbody>\n",
       "    <tr>\n",
       "      <th>0</th>\n",
       "      <td>Tulip</td>\n",
       "      <td>5</td>\n",
       "    </tr>\n",
       "    <tr>\n",
       "      <th>1</th>\n",
       "      <td>Rose</td>\n",
       "      <td>3</td>\n",
       "    </tr>\n",
       "    <tr>\n",
       "      <th>2</th>\n",
       "      <td>Bluegill</td>\n",
       "      <td>2</td>\n",
       "    </tr>\n",
       "  </tbody>\n",
       "</table>\n",
       "</div>"
      ]
     },
     "execution_count": 632,
     "metadata": {},
     "output_type": "execute_result"
    }
   ],
   "execution_count": 632
  },
  {
   "metadata": {
    "ExecuteTime": {
     "end_time": "2025-04-28T14:08:52.345124Z",
     "start_time": "2025-04-28T14:08:52.341057Z"
    }
   },
   "cell_type": "code",
   "source": [
    "# this shows the villagers on the user with id = 1 that have the Lazy personality\n",
    "query = \"\"\"\n",
    "SELECT v.Name\n",
    "FROM VILLAGER v\n",
    "JOIN ISLAND_VILLAGER vi ON vi.VillagerID = v.VillagerID\n",
    "WHERE vi.UserID = '1'\n",
    "GROUP BY v.Name\n",
    "HAVING Personality = 'Lazy'\n",
    "\"\"\"\n",
    "\n",
    "result = execute_query(query)\n",
    "print(\"Results:\")\n",
    "result"
   ],
   "id": "6956bec6d42e4f88",
   "outputs": [
    {
     "name": "stdout",
     "output_type": "stream",
     "text": [
      "Results:\n"
     ]
    },
    {
     "data": {
      "text/plain": [
       "  Name\n",
       "0  Bob"
      ],
      "text/html": [
       "<div>\n",
       "<style scoped>\n",
       "    .dataframe tbody tr th:only-of-type {\n",
       "        vertical-align: middle;\n",
       "    }\n",
       "\n",
       "    .dataframe tbody tr th {\n",
       "        vertical-align: top;\n",
       "    }\n",
       "\n",
       "    .dataframe thead th {\n",
       "        text-align: right;\n",
       "    }\n",
       "</style>\n",
       "<table border=\"1\" class=\"dataframe\">\n",
       "  <thead>\n",
       "    <tr style=\"text-align: right;\">\n",
       "      <th></th>\n",
       "      <th>Name</th>\n",
       "    </tr>\n",
       "  </thead>\n",
       "  <tbody>\n",
       "    <tr>\n",
       "      <th>0</th>\n",
       "      <td>Bob</td>\n",
       "    </tr>\n",
       "  </tbody>\n",
       "</table>\n",
       "</div>"
      ]
     },
     "execution_count": 633,
     "metadata": {},
     "output_type": "execute_result"
    }
   ],
   "execution_count": 633
  },
  {
   "metadata": {},
   "cell_type": "markdown",
   "source": "Query using set operations",
   "id": "8ab628ab1b911a5"
  },
  {
   "metadata": {
    "ExecuteTime": {
     "end_time": "2025-04-28T14:08:52.408939Z",
     "start_time": "2025-04-28T14:08:52.404492Z"
    }
   },
   "cell_type": "code",
   "source": [
    "# this shows the item ids of items not yet collected by the user with id = 1\n",
    "query = \"\"\"\n",
    "SELECT ItemID\n",
    "FROM ITEM\n",
    "EXCEPT\n",
    "SELECT ItemID\n",
    "FROM USER_ITEM\n",
    "WHERE UserID = '1'\n",
    "\"\"\"\n",
    "\n",
    "result = execute_query(query)\n",
    "print(\"Results:\")\n",
    "result"
   ],
   "id": "1aec24674799c2b4",
   "outputs": [
    {
     "name": "stdout",
     "output_type": "stream",
     "text": [
      "Results:\n"
     ]
    },
    {
     "data": {
      "text/plain": [
       "    ItemID\n",
       "0   art002\n",
       "1   art003\n",
       "2   art004\n",
       "3   art005\n",
       "4   art006\n",
       "..     ...\n",
       "59  sea006\n",
       "60  sea007\n",
       "61  sea008\n",
       "62  sea009\n",
       "63  sea010\n",
       "\n",
       "[64 rows x 1 columns]"
      ],
      "text/html": [
       "<div>\n",
       "<style scoped>\n",
       "    .dataframe tbody tr th:only-of-type {\n",
       "        vertical-align: middle;\n",
       "    }\n",
       "\n",
       "    .dataframe tbody tr th {\n",
       "        vertical-align: top;\n",
       "    }\n",
       "\n",
       "    .dataframe thead th {\n",
       "        text-align: right;\n",
       "    }\n",
       "</style>\n",
       "<table border=\"1\" class=\"dataframe\">\n",
       "  <thead>\n",
       "    <tr style=\"text-align: right;\">\n",
       "      <th></th>\n",
       "      <th>ItemID</th>\n",
       "    </tr>\n",
       "  </thead>\n",
       "  <tbody>\n",
       "    <tr>\n",
       "      <th>0</th>\n",
       "      <td>art002</td>\n",
       "    </tr>\n",
       "    <tr>\n",
       "      <th>1</th>\n",
       "      <td>art003</td>\n",
       "    </tr>\n",
       "    <tr>\n",
       "      <th>2</th>\n",
       "      <td>art004</td>\n",
       "    </tr>\n",
       "    <tr>\n",
       "      <th>3</th>\n",
       "      <td>art005</td>\n",
       "    </tr>\n",
       "    <tr>\n",
       "      <th>4</th>\n",
       "      <td>art006</td>\n",
       "    </tr>\n",
       "    <tr>\n",
       "      <th>...</th>\n",
       "      <td>...</td>\n",
       "    </tr>\n",
       "    <tr>\n",
       "      <th>59</th>\n",
       "      <td>sea006</td>\n",
       "    </tr>\n",
       "    <tr>\n",
       "      <th>60</th>\n",
       "      <td>sea007</td>\n",
       "    </tr>\n",
       "    <tr>\n",
       "      <th>61</th>\n",
       "      <td>sea008</td>\n",
       "    </tr>\n",
       "    <tr>\n",
       "      <th>62</th>\n",
       "      <td>sea009</td>\n",
       "    </tr>\n",
       "    <tr>\n",
       "      <th>63</th>\n",
       "      <td>sea010</td>\n",
       "    </tr>\n",
       "  </tbody>\n",
       "</table>\n",
       "<p>64 rows × 1 columns</p>\n",
       "</div>"
      ]
     },
     "execution_count": 634,
     "metadata": {},
     "output_type": "execute_result"
    }
   ],
   "execution_count": 634
  },
  {
   "metadata": {
    "ExecuteTime": {
     "end_time": "2025-04-28T14:08:52.491988Z",
     "start_time": "2025-04-28T14:08:52.489708Z"
    }
   },
   "cell_type": "code",
   "source": "conn.close()",
   "id": "eac700a38be131f8",
   "outputs": [],
   "execution_count": 635
  }
 ],
 "metadata": {
  "kernelspec": {
   "display_name": "Python 3",
   "language": "python",
   "name": "python3"
  },
  "language_info": {
   "codemirror_mode": {
    "name": "ipython",
    "version": 2
   },
   "file_extension": ".py",
   "mimetype": "text/x-python",
   "name": "python",
   "nbconvert_exporter": "python",
   "pygments_lexer": "ipython2",
   "version": "2.7.6"
  }
 },
 "nbformat": 4,
 "nbformat_minor": 5
}
